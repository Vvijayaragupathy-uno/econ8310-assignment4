{
 "cells": [
  {
   "cell_type": "code",
   "execution_count": null,
   "id": "11dbfcab-e9a4-42be-8638-405a498dff18",
   "metadata": {},
   "outputs": [
    {
     "name": "stderr",
     "output_type": "stream",
     "text": [
      "Initializing NUTS using jitter+adapt_diag...\n"
     ]
    },
    {
     "name": "stdout",
     "output_type": "stream",
     "text": [
      "Dataset Overview:\n",
      "--------------------------------------------------\n",
      "Total Samples: 90189\n",
      "Versions Distribution:\n",
      "version\n",
      "gate_40    45489\n",
      "gate_30    44700\n",
      "Name: count, dtype: int64\n",
      "\n",
      "Retention Rates:\n",
      "         retention_1  retention_7\n",
      "version                          \n",
      "gate_30     0.448188     0.190201\n",
      "gate_40     0.442283     0.182000\n",
      "\n",
      "1-DAY RETENTION ANALYSIS\n"
     ]
    },
    {
     "name": "stderr",
     "output_type": "stream",
     "text": [
      "Multiprocess sampling (2 chains in 2 jobs)\n",
      "NUTS: [p_30_retention_1, p_40_retention_1]\n"
     ]
    },
    {
     "data": {
      "application/vnd.jupyter.widget-view+json": {
       "model_id": "25027fbf787e4e1d9dd837a512b68ff2",
       "version_major": 2,
       "version_minor": 0
      },
      "text/plain": [
       "Output()"
      ]
     },
     "metadata": {},
     "output_type": "display_data"
    }
   ],
   "source": [
    "import pandas as pd\n",
    "import pymc as pm\n",
    "import numpy as np\n",
    "import matplotlib.pyplot as plt\n",
    "import arviz as az\n",
    "\n",
    "def load_and_analyze_data(file_path):\n",
    "    # Load data\n",
    "    data = pd.read_csv(file_path)\n",
    "    \n",
    "    # Data Overview\n",
    "    print(\"Dataset Overview:\")\n",
    "    print(\"-\" * 50)\n",
    "    print(f\"Total Samples: {len(data)}\")\n",
    "    print(f\"Versions Distribution:\\n{data['version'].value_counts()}\")\n",
    "    \n",
    "    # Retention Summary\n",
    "    retention_summary = data.groupby('version')[['retention_1', 'retention_7']].mean()\n",
    "    print(\"\\nRetention Rates:\")\n",
    "    print(retention_summary)\n",
    "    \n",
    "   \n",
    "    def run_retention_analysis(retention_type):\n",
    "        gate_30_retention = data[data['version'] == 'gate_30'][retention_type]\n",
    "        gate_40_retention = data[data['version'] == 'gate_40'][retention_type]\n",
    "        \n",
    "        with pm.Model() as retention_model:\n",
    "            p_30 = pm.Uniform(f'p_30_{retention_type}', lower=0, upper=1)\n",
    "            p_40 = pm.Uniform(f'p_40_{retention_type}', lower=0, upper=1)\n",
    "            \n",
    "            obs_30 = pm.Bernoulli(f'obs_30_{retention_type}', p=p_30, observed=gate_30_retention)\n",
    "            obs_40 = pm.Bernoulli(f'obs_40_{retention_type}', p=p_40, observed=gate_40_retention)\n",
    "            \n",
    "            difference = pm.Deterministic('difference', p_30 - p_40)\n",
    "            \n",
    "            trace = pm.sample(20000, chains=2)\n",
    "        \n",
    "        return trace\n",
    "    \n",
    "    # Visualization Function\n",
    "    def visualize_retention_analysis(trace, retention_type):\n",
    "        # Posterior Distributions for Gate Probabilities\n",
    "        plt.figure(figsize=(12.5, 4))\n",
    "        \n",
    "        p_30_samples = np.concatenate(trace.posterior[f'p_30_{retention_type}'].data[:,1000:])\n",
    "        p_40_samples = np.concatenate(trace.posterior[f'p_40_{retention_type}'].data[:,1000:])\n",
    "        \n",
    "        plt.hist(p_30_samples, bins=40, label='Posterior p_30', density=True, alpha=0.7)\n",
    "        plt.hist(p_40_samples, bins=40, label='Posterior p_40', density=True, alpha=0.7)\n",
    "        plt.title(f'{retention_type.capitalize()} Retention Probabilities')\n",
    "        plt.legend()\n",
    "        plt.show()\n",
    "        \n",
    "        # Difference Distribution\n",
    "        difference_samples = np.concatenate(trace.posterior['difference'].data[:,1000:])\n",
    "        \n",
    "        plt.figure(figsize=(12.5, 4))\n",
    "        plt.hist(difference_samples, bins=40, label='Posterior difference', density=True)\n",
    "        plt.title(f'Difference in {retention_type.capitalize()} Retention')\n",
    "        plt.axvline(x=0, color='r', linestyle='--')\n",
    "        plt.legend()\n",
    "        plt.show()\n",
    "        \n",
    "        # Print Summary\n",
    "        print(f\"\\n{retention_type.capitalize()} Retention Analysis:\")\n",
    "        print(az.summary(trace, hdi_prob=0.95))\n",
    "        \n",
    "        # Probability of Superiority\n",
    "        prob_superior = np.mean(difference_samples > 0)\n",
    "        print(f\"\\nProbability that Gate_30 is Superior: {prob_superior:.2%}\")\n",
    "        \n",
    "        return prob_superior\n",
    "    \n",
    "    # Perform Analysis for 1-day and 7-day retention\n",
    "    print(\"\\n1-DAY RETENTION ANALYSIS\")\n",
    "    trace_1day = run_retention_analysis('retention_1')\n",
    "    prob_1day = visualize_retention_analysis(trace_1day, 'retention_1')\n",
    "    \n",
    "    print(\"\\n7-DAY RETENTION ANALYSIS\")\n",
    "    trace_7day = run_retention_analysis('retention_7')\n",
    "    prob_7day = visualize_retention_analysis(trace_7day, 'retention_7')\n",
    "\n",
    "# Execute the analysis\n",
    "if __name__ == \"__main__\":\n",
    "    file_path = \"https://raw.githubusercontent.com/dustywhite7/Econ8310/master/AssignmentData/cookie_cats.csv\"\n",
    "    load_and_analyze_data(file_path)"
   ]
  },
  {
   "cell_type": "code",
   "execution_count": null,
   "id": "ed11fa53-aa24-4e47-804f-7006ba8f6b4a",
   "metadata": {},
   "outputs": [],
   "source": []
  }
 ],
 "metadata": {
  "kernelspec": {
   "display_name": "Python 3 (ipykernel)",
   "language": "python",
   "name": "python3"
  },
  "language_info": {
   "codemirror_mode": {
    "name": "ipython",
    "version": 3
   },
   "file_extension": ".py",
   "mimetype": "text/x-python",
   "name": "python",
   "nbconvert_exporter": "python",
   "pygments_lexer": "ipython3",
   "version": "3.12.5"
  }
 },
 "nbformat": 4,
 "nbformat_minor": 5
}
